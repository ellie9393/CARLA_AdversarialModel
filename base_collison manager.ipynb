{
 "cells": [
  {
   "cell_type": "code",
   "execution_count": 4,
   "id": "55596ebd-19d3-4935-a65e-46b34483327f",
   "metadata": {},
   "outputs": [
    {
     "name": "stdout",
     "output_type": "stream",
     "text": [
      "✅ Base collision data saved!\n"
     ]
    }
   ],
   "source": [
    "import carla\n",
    "import time\n",
    "import pandas as pd\n",
    "\n",
    "# Connect to CARLA\n",
    "client = carla.Client('localhost', 2000)\n",
    "client.set_timeout(10.0)\n",
    "world = client.get_world()\n",
    "time.sleep(5)  # ⏳ Allow vehicles to spawn\n",
    "\n",
    "# Get all vehicles\n",
    "vehicles = world.get_actors().filter('vehicle.*')\n",
    "\n",
    "# Initialize data storage\n",
    "collision_data = []\n",
    "collision_events = {}  # Dictionary to track collisions per vehicle\n",
    "\n",
    "# Function to handle collision events\n",
    "def collision_callback(event):\n",
    "    vehicle_id = event.actor.id\n",
    "    collision_events[vehicle_id] = True  # Mark vehicle as collided\n",
    "\n",
    "# Attach collision sensors to vehicles\n",
    "for vehicle in vehicles:\n",
    "    blueprint = world.get_blueprint_library().find('sensor.other.collision')\n",
    "    sensor = world.spawn_actor(blueprint, carla.Transform(), attach_to=vehicle)\n",
    "    sensor.listen(collision_callback)\n",
    "    collision_events[vehicle.id] = False  # Initialize as no collision\n",
    "\n",
    "# Function to check for nearby vehicles\n",
    "def check_collision_behavior(vehicle, world):\n",
    "    vehicle_list = world.get_actors().filter('vehicle.*')\n",
    "    detected_vehicles = 0\n",
    "    collision_detected = collision_events.get(vehicle.id, False)  # Check collision status\n",
    "\n",
    "    for other_vehicle in vehicle_list:\n",
    "        if other_vehicle.id != vehicle.id:\n",
    "            distance = vehicle.get_location().distance(other_vehicle.get_location())\n",
    "            if distance < 15:  # Detection threshold\n",
    "                detected_vehicles += 1\n",
    "\n",
    "    return detected_vehicles, collision_detected\n",
    "\n",
    "# Log data for 1 minute\n",
    "start_time = time.time()\n",
    "sampling_interval = 3.0  # Log every 3 seconds\n",
    "last_logged_time = start_time\n",
    "\n",
    "while time.time() - start_time < 60:  # Run for 1 minute\n",
    "    world.tick()\n",
    "    \n",
    "    if time.time() - last_logged_time >= sampling_interval:\n",
    "        last_logged_time = time.time()\n",
    "        \n",
    "        for vehicle in vehicles:\n",
    "            detected, collision = check_collision_behavior(vehicle, world)\n",
    "            collision_data.append({\n",
    "                \"vehicle_id\": vehicle.id,\n",
    "                \"time\": round(time.time() - start_time, 2),\n",
    "                \"detected_vehicles\": detected,\n",
    "                \"collision_detected\": 1 if collision else 0\n",
    "            })\n",
    "\n",
    "# Save base collision data\n",
    "df_collision = pd.DataFrame(collision_data)\n",
    "df_collision.to_csv(\"collision_data_base.csv\", index=False)\n",
    "\n",
    "print(\"✅ Base collision data saved!\")\n"
   ]
  },
  {
   "cell_type": "code",
   "execution_count": null,
   "id": "e852e4fa-ce6a-45c1-b043-b50556980d45",
   "metadata": {},
   "outputs": [],
   "source": []
  }
 ],
 "metadata": {
  "kernelspec": {
   "display_name": "Python [conda env:carla-sim]",
   "language": "python",
   "name": "conda-env-carla-sim-py"
  },
  "language_info": {
   "codemirror_mode": {
    "name": "ipython",
    "version": 3
   },
   "file_extension": ".py",
   "mimetype": "text/x-python",
   "name": "python",
   "nbconvert_exporter": "python",
   "pygments_lexer": "ipython3",
   "version": "3.7.12"
  }
 },
 "nbformat": 4,
 "nbformat_minor": 5
}
