{
 "cells": [
  {
   "cell_type": "code",
   "execution_count": 9,
   "id": "ac5c250d-4d19-4041-9a7e-83bba73ccebb",
   "metadata": {},
   "outputs": [
    {
     "name": "stdout",
     "output_type": "stream",
     "text": [
      "✅ Destroyed 0 vehicles.\n"
     ]
    }
   ],
   "source": [
    "import carla\n",
    "\n",
    "client = carla.Client('localhost', 2000)\n",
    "client.set_timeout(5.0)\n",
    "world = client.get_world()\n",
    "\n",
    "# ✅ Destroy all vehicles\n",
    "actors = world.get_actors().filter('vehicle.*')\n",
    "for actor in actors:\n",
    "    actor.destroy()\n",
    "\n",
    "print(f\"✅ Destroyed {len(actors)} vehicles.\")"
   ]
  },
  {
   "cell_type": "code",
   "execution_count": 12,
   "id": "1101449b-d539-47b5-92b8-5471a9100d60",
   "metadata": {},
   "outputs": [
    {
     "data": {
      "text/plain": [
       "{0}"
      ]
     },
     "execution_count": 12,
     "metadata": {},
     "output_type": "execute_result"
    }
   ],
   "source": [
    "{len(actors)}"
   ]
  },
  {
   "cell_type": "code",
   "execution_count": null,
   "id": "073af269-8fee-422b-84cc-3ea9c7d50de3",
   "metadata": {},
   "outputs": [],
   "source": []
  },
  {
   "cell_type": "code",
   "execution_count": null,
   "id": "1ce72733-c6b5-41dc-934c-3e8378ea5ece",
   "metadata": {},
   "outputs": [],
   "source": []
  }
 ],
 "metadata": {
  "kernelspec": {
   "display_name": "Python [conda env:carla-sim]",
   "language": "python",
   "name": "conda-env-carla-sim-py"
  },
  "language_info": {
   "codemirror_mode": {
    "name": "ipython",
    "version": 3
   },
   "file_extension": ".py",
   "mimetype": "text/x-python",
   "name": "python",
   "nbconvert_exporter": "python",
   "pygments_lexer": "ipython3",
   "version": "3.7.12"
  }
 },
 "nbformat": 4,
 "nbformat_minor": 5
}
