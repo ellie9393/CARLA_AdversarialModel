{
 "cells": [
  {
   "cell_type": "code",
   "execution_count": 3,
   "id": "59f0b9a6-9791-45e5-93c5-5716f34dd70a",
   "metadata": {},
   "outputs": [
    {
     "name": "stdout",
     "output_type": "stream",
     "text": [
      "Base behavior speed data saved!\n",
      "📢 Number of vehicles in the simulator: 30\n"
     ]
    }
   ],
   "source": [
    "import carla\n",
    "import time\n",
    "import pandas as pd\n",
    "\n",
    "# Connect to CARLA\n",
    "client = carla.Client('localhost', 2000)\n",
    "client.set_timeout(10.0) \n",
    "world = client.get_world()\n",
    "time.sleep(5)  # ⏳ Allow vehicles to spawn\n",
    "# Get all vehicles\n",
    "vehicles = world.get_actors().filter('vehicle.*')\n",
    "\n",
    "# Initialize data storage\n",
    "speed_data_base = {v.id: [] for v in vehicles}\n",
    "\n",
    "# Log speed for 5 minutes (Base Behavior)\n",
    "start_time = time.time()\n",
    "sampling_interval = 1.0  # Log speed every 1 second\n",
    "last_logged_time = start_time\n",
    "\n",
    "while time.time() - start_time < 60:  \n",
    "    world.tick()\n",
    "\n",
    "    \n",
    "    if time.time() - last_logged_time >= sampling_interval:\n",
    "        last_logged_time = time.time()\n",
    "        \n",
    "        for vehicle in vehicles:\n",
    "            velocity = vehicle.get_velocity()\n",
    "            speed = round(3.6 * ((velocity.x**2 + velocity.y**2 + velocity.z**2) ** 0.5), 2)  # Round to 2 decimal places\n",
    "            speed_data_base[vehicle.id].append(speed)\n",
    "\n",
    "# Save base behavior data to CSV\n",
    "df_base = pd.DataFrame.from_dict(speed_data_base, orient='index').transpose()\n",
    "df_base.to_csv(\"speed_data_base.csv\", index=False)\n",
    "\n",
    "print(\"Base behavior speed data saved!\")\n",
    "print(f\"📢 Number of vehicles in the simulator: {len(vehicles)}\")  # 🔹 Print vehicle count\n"
   ]
  },
  {
   "cell_type": "code",
   "execution_count": 3,
   "id": "49906460-a3c4-42dc-bb91-f829128f28b1",
   "metadata": {},
   "outputs": [
    {
     "name": "stdout",
     "output_type": "stream",
     "text": [
      "✅ Base tailgating data saved!\n"
     ]
    }
   ],
   "source": [
    "import carla\n",
    "import time\n",
    "import pandas as pd\n",
    "\n",
    "# Connect to CARLA\n",
    "client = carla.Client('localhost', 2000)\n",
    "client.set_timeout(10.0)\n",
    "world = client.get_world()\n",
    "time.sleep(5)  # ⏳ Allow vehicles to spawn\n",
    "\n",
    "# Get all vehicles\n",
    "vehicles = world.get_actors().filter('vehicle.*')\n",
    "\n",
    "# Initialize data storage\n",
    "tailgating_data = []\n",
    "\n",
    "# Function to check if agent is tailgating\n",
    "def is_tailgating(vehicle, world):\n",
    "    vehicle_list = world.get_actors().filter('vehicle.*')\n",
    "    for other_vehicle in vehicle_list:\n",
    "        if other_vehicle.id != vehicle.id:\n",
    "            distance = vehicle.get_location().distance(other_vehicle.get_location())\n",
    "            if distance < 10:  # Tailgating if following within 10 meters\n",
    "                return True, distance\n",
    "    return False, None\n",
    "\n",
    "# Log tailgating behavior for 5 minutes\n",
    "start_time = time.time()\n",
    "sampling_interval = 3.0  # Log every second\n",
    "last_logged_time = start_time\n",
    "\n",
    "while time.time() - start_time < 60:  # 1 minutes\n",
    "    world.tick()\n",
    "    \n",
    "    if time.time() - last_logged_time >= sampling_interval:\n",
    "        last_logged_time = time.time()\n",
    "        \n",
    "        for vehicle in vehicles:\n",
    "            tailgating, distance = is_tailgating(vehicle, world)\n",
    "            if tailgating:\n",
    "                tailgating_data.append({\"vehicle_id\": vehicle.id, \"time\": round(time.time() - start_time, 2), \"distance\": round(distance, 2)})\n",
    "\n",
    "\n",
    "# Save base tailgating data\n",
    "df_tailgating = pd.DataFrame(tailgating_data)\n",
    "df_tailgating.to_csv(\"tailgating_data_base.csv\", index=False)\n",
    "\n",
    "print(\"✅ Base tailgating data saved!\")\n"
   ]
  },
  {
   "cell_type": "code",
   "execution_count": null,
   "id": "ae357416-0178-4541-8ff8-65fc58feddbf",
   "metadata": {},
   "outputs": [],
   "source": []
  }
 ],
 "metadata": {
  "kernelspec": {
   "display_name": "Python [conda env:carla-sim]",
   "language": "python",
   "name": "conda-env-carla-sim-py"
  },
  "language_info": {
   "codemirror_mode": {
    "name": "ipython",
    "version": 3
   },
   "file_extension": ".py",
   "mimetype": "text/x-python",
   "name": "python",
   "nbconvert_exporter": "python",
   "pygments_lexer": "ipython3",
   "version": "3.7.16"
  }
 },
 "nbformat": 4,
 "nbformat_minor": 5
}
