{
 "cells": [
  {
   "cell_type": "code",
   "execution_count": 9,
   "id": "808f2380-9fc5-49d9-bc53-f734e72a61d6",
   "metadata": {},
   "outputs": [],
   "source": [
    "import carla\n"
   ]
  },
  {
   "cell_type": "code",
   "execution_count": 13,
   "id": "f2952aea-17fd-46cb-8765-726d1e0e2dbb",
   "metadata": {},
   "outputs": [
    {
     "name": "stdout",
     "output_type": "stream",
     "text": [
      "Current map: Carla/Maps/Town02\n"
     ]
    }
   ],
   "source": [
    "current_map = world.get_map().name\n",
    "print(f\"Current map: {current_map}\")\n",
    "\n"
   ]
  },
  {
   "cell_type": "code",
   "execution_count": 3,
   "id": "e44db518-7eaa-42b2-8a5e-470921b8de71",
   "metadata": {},
   "outputs": [],
   "source": [
    "client = carla.Client('localhost', 2000)\n",
    "\n",
    "\n",
    "world = client.get_world()\n",
    "spawn_points = world.get_map().get_spawn_points()\n",
    "\n",
    "vehicle_bp = world.get_blueprint_library().filter('*firetruck*')\n",
    "start_point = spawn_points[0]\n",
    "vehicle = world.try_spawn_actor(vehicle_bp[0], start_point)"
   ]
  },
  {
   "cell_type": "code",
   "execution_count": 7,
   "id": "5b61b2ef-4cad-457a-addb-7434447af4b3",
   "metadata": {},
   "outputs": [
    {
     "ename": "AttributeError",
     "evalue": "'NoneType' object has no attribute 'get_transform'",
     "output_type": "error",
     "traceback": [
      "\u001b[1;31m---------------------------------------------------------------------------\u001b[0m",
      "\u001b[1;31mAttributeError\u001b[0m                            Traceback (most recent call last)",
      "\u001b[1;32m~\\AppData\\Local\\Temp\\ipykernel_22280\\505220225.py\u001b[0m in \u001b[0;36m<module>\u001b[1;34m\u001b[0m\n\u001b[0;32m      1\u001b[0m \u001b[1;31m#get the car's position on the map\u001b[0m\u001b[1;33m\u001b[0m\u001b[1;33m\u001b[0m\u001b[1;33m\u001b[0m\u001b[0m\n\u001b[1;32m----> 2\u001b[1;33m \u001b[0mvehicle_pos\u001b[0m \u001b[1;33m=\u001b[0m \u001b[0mvehicle\u001b[0m\u001b[1;33m.\u001b[0m\u001b[0mget_transform\u001b[0m\u001b[1;33m(\u001b[0m\u001b[1;33m)\u001b[0m\u001b[1;33m\u001b[0m\u001b[1;33m\u001b[0m\u001b[0m\n\u001b[0m\u001b[0;32m      3\u001b[0m \u001b[0mprint\u001b[0m\u001b[1;33m(\u001b[0m\u001b[0mvehicle_pos\u001b[0m\u001b[1;33m)\u001b[0m\u001b[1;33m\u001b[0m\u001b[1;33m\u001b[0m\u001b[0m\n",
      "\u001b[1;31mAttributeError\u001b[0m: 'NoneType' object has no attribute 'get_transform'"
     ]
    }
   ],
   "source": [
    "#get the car's position on the map\n",
    "vehicle_pos = vehicle.get_transform()\n",
    "print(vehicle_pos)"
   ]
  },
  {
   "cell_type": "code",
   "execution_count": 9,
   "id": "40846279-26ad-45a8-9dfd-55e8baffa922",
   "metadata": {},
   "outputs": [
    {
     "name": "stdout",
     "output_type": "stream",
     "text": [
      "Transform(Location(x=-7.530000, y=142.190002, z=0.500000), Rotation(pitch=0.000000, yaw=89.999954, roll=0.000000))\n"
     ]
    }
   ],
   "source": [
    "#intial spwan point is the same - just 0.6m higher off the ground\n",
    "print(start_point)"
   ]
  },
  {
   "cell_type": "code",
   "execution_count": 11,
   "id": "d1e2fffe-142c-479e-bd20-843c5942d17f",
   "metadata": {},
   "outputs": [],
   "source": [
    "#sed vegicle off\n",
    "vehicle.set_autopilot(True)"
   ]
  },
  {
   "cell_type": "code",
   "execution_count": 13,
   "id": "0c3a7421-366d-4ef9-b86e-a18d75a04437",
   "metadata": {},
   "outputs": [
    {
     "name": "stdout",
     "output_type": "stream",
     "text": [
      "Transform(Location(x=-7.496529, y=145.810974, z=0.215673), Rotation(pitch=0.062052, yaw=89.585091, roll=0.001780))\n"
     ]
    }
   ],
   "source": [
    "#get actual position from the car moving\n",
    "vehicle_pos = vehicle.get_transform()\n",
    "print(vehicle_pos)"
   ]
  },
  {
   "cell_type": "code",
   "execution_count": 15,
   "id": "fe6f7210-b3ab-465f-9e90-3189d632011c",
   "metadata": {},
   "outputs": [],
   "source": [
    "# now look at the map\n",
    "town_map = world.get_map()"
   ]
  },
  {
   "cell_type": "code",
   "execution_count": 17,
   "id": "4f8cb008-cf60-4cf1-8dd3-abb8d7a8a831",
   "metadata": {},
   "outputs": [
    {
     "data": {
      "text/plain": [
       "carla.libcarla.Map"
      ]
     },
     "execution_count": 17,
     "metadata": {},
     "output_type": "execute_result"
    }
   ],
   "source": [
    "type(town_map)"
   ]
  },
  {
   "cell_type": "code",
   "execution_count": 19,
   "id": "f76aed09-abc0-40c8-8af6-35d2575950f1",
   "metadata": {},
   "outputs": [
    {
     "name": "stdout",
     "output_type": "stream",
     "text": [
      "Map(name=Carla/Maps/Town02)\n"
     ]
    }
   ],
   "source": [
    "print(town_map)"
   ]
  },
  {
   "cell_type": "code",
   "execution_count": 21,
   "id": "c8b8942d-b0a9-4bb9-801c-d426a85565c6",
   "metadata": {},
   "outputs": [],
   "source": [
    "roads = town_map.get_topology()"
   ]
  },
  {
   "cell_type": "code",
   "execution_count": 23,
   "id": "ff882be4-5a43-4624-9b24-fb7c44ea41e4",
   "metadata": {},
   "outputs": [
    {
     "name": "stdout",
     "output_type": "stream",
     "text": [
      "[(<carla.libcarla.Waypoint object at 0x000001A6187112D0>, <carla.libcarla.Waypoint object at 0x000001A6187110F0>), (<carla.libcarla.Waypoint object at 0x000001A618711E10>, <carla.libcarla.Waypoint object at 0x000001A618711690>), (<carla.libcarla.Waypoint object at 0x000001A61872E030>, <carla.libcarla.Waypoint object at 0x000001A61872E090>), (<carla.libcarla.Waypoint object at 0x000001A61872E0F0>, <carla.libcarla.Waypoint object at 0x000001A61872E150>), (<carla.libcarla.Waypoint object at 0x000001A61872E1B0>, <carla.libcarla.Waypoint object at 0x000001A61872E210>), (<carla.libcarla.Waypoint object at 0x000001A61872E270>, <carla.libcarla.Waypoint object at 0x000001A61872E2D0>), (<carla.libcarla.Waypoint object at 0x000001A61872E330>, <carla.libcarla.Waypoint object at 0x000001A61872E390>), (<carla.libcarla.Waypoint object at 0x000001A61872E3F0>, <carla.libcarla.Waypoint object at 0x000001A61872E450>), (<carla.libcarla.Waypoint object at 0x000001A61872E4B0>, <carla.libcarla.Waypoint object at 0x000001A61872E510>), (<carla.libcarla.Waypoint object at 0x000001A61872E570>, <carla.libcarla.Waypoint object at 0x000001A61872E5D0>), (<carla.libcarla.Waypoint object at 0x000001A61872E630>, <carla.libcarla.Waypoint object at 0x000001A61872E690>), (<carla.libcarla.Waypoint object at 0x000001A61872E6F0>, <carla.libcarla.Waypoint object at 0x000001A61872E750>), (<carla.libcarla.Waypoint object at 0x000001A61872E7B0>, <carla.libcarla.Waypoint object at 0x000001A61872E810>), (<carla.libcarla.Waypoint object at 0x000001A61872E870>, <carla.libcarla.Waypoint object at 0x000001A61872E8D0>), (<carla.libcarla.Waypoint object at 0x000001A61872E930>, <carla.libcarla.Waypoint object at 0x000001A61872E990>), (<carla.libcarla.Waypoint object at 0x000001A61872E9F0>, <carla.libcarla.Waypoint object at 0x000001A61872EA50>), (<carla.libcarla.Waypoint object at 0x000001A61872EAB0>, <carla.libcarla.Waypoint object at 0x000001A61872EB10>), (<carla.libcarla.Waypoint object at 0x000001A61872EB70>, <carla.libcarla.Waypoint object at 0x000001A61872EBD0>), (<carla.libcarla.Waypoint object at 0x000001A61872EC30>, <carla.libcarla.Waypoint object at 0x000001A61872EC90>), (<carla.libcarla.Waypoint object at 0x000001A61872ECF0>, <carla.libcarla.Waypoint object at 0x000001A61872ED50>), (<carla.libcarla.Waypoint object at 0x000001A61872EDB0>, <carla.libcarla.Waypoint object at 0x000001A61872EE10>), (<carla.libcarla.Waypoint object at 0x000001A61872EE70>, <carla.libcarla.Waypoint object at 0x000001A61872EED0>), (<carla.libcarla.Waypoint object at 0x000001A61872EF30>, <carla.libcarla.Waypoint object at 0x000001A61872EF90>), (<carla.libcarla.Waypoint object at 0x000001A618710030>, <carla.libcarla.Waypoint object at 0x000001A618710090>), (<carla.libcarla.Waypoint object at 0x000001A6187100F0>, <carla.libcarla.Waypoint object at 0x000001A618710150>), (<carla.libcarla.Waypoint object at 0x000001A6187101B0>, <carla.libcarla.Waypoint object at 0x000001A618710210>), (<carla.libcarla.Waypoint object at 0x000001A618710270>, <carla.libcarla.Waypoint object at 0x000001A6187102D0>), (<carla.libcarla.Waypoint object at 0x000001A618710330>, <carla.libcarla.Waypoint object at 0x000001A618710390>), (<carla.libcarla.Waypoint object at 0x000001A6187103F0>, <carla.libcarla.Waypoint object at 0x000001A618710450>), (<carla.libcarla.Waypoint object at 0x000001A6187104B0>, <carla.libcarla.Waypoint object at 0x000001A618710510>), (<carla.libcarla.Waypoint object at 0x000001A618710570>, <carla.libcarla.Waypoint object at 0x000001A6187105D0>), (<carla.libcarla.Waypoint object at 0x000001A618710630>, <carla.libcarla.Waypoint object at 0x000001A618710690>), (<carla.libcarla.Waypoint object at 0x000001A6187106F0>, <carla.libcarla.Waypoint object at 0x000001A618710750>), (<carla.libcarla.Waypoint object at 0x000001A6187107B0>, <carla.libcarla.Waypoint object at 0x000001A618710810>), (<carla.libcarla.Waypoint object at 0x000001A618710870>, <carla.libcarla.Waypoint object at 0x000001A6187108D0>), (<carla.libcarla.Waypoint object at 0x000001A618710930>, <carla.libcarla.Waypoint object at 0x000001A618710990>), (<carla.libcarla.Waypoint object at 0x000001A6187109F0>, <carla.libcarla.Waypoint object at 0x000001A618710A50>), (<carla.libcarla.Waypoint object at 0x000001A618710AB0>, <carla.libcarla.Waypoint object at 0x000001A618710B10>), (<carla.libcarla.Waypoint object at 0x000001A618710B70>, <carla.libcarla.Waypoint object at 0x000001A618710BD0>), (<carla.libcarla.Waypoint object at 0x000001A618710C30>, <carla.libcarla.Waypoint object at 0x000001A618710C90>), (<carla.libcarla.Waypoint object at 0x000001A618710CF0>, <carla.libcarla.Waypoint object at 0x000001A618710D50>), (<carla.libcarla.Waypoint object at 0x000001A618710DB0>, <carla.libcarla.Waypoint object at 0x000001A618710E10>), (<carla.libcarla.Waypoint object at 0x000001A618710E70>, <carla.libcarla.Waypoint object at 0x000001A618710ED0>), (<carla.libcarla.Waypoint object at 0x000001A618710F30>, <carla.libcarla.Waypoint object at 0x000001A618710F90>), (<carla.libcarla.Waypoint object at 0x000001A61870E030>, <carla.libcarla.Waypoint object at 0x000001A61870E090>), (<carla.libcarla.Waypoint object at 0x000001A61870E0F0>, <carla.libcarla.Waypoint object at 0x000001A61870E150>), (<carla.libcarla.Waypoint object at 0x000001A61870E1B0>, <carla.libcarla.Waypoint object at 0x000001A61870E210>), (<carla.libcarla.Waypoint object at 0x000001A61870E270>, <carla.libcarla.Waypoint object at 0x000001A61870E2D0>), (<carla.libcarla.Waypoint object at 0x000001A61870E330>, <carla.libcarla.Waypoint object at 0x000001A61870E390>), (<carla.libcarla.Waypoint object at 0x000001A61870E3F0>, <carla.libcarla.Waypoint object at 0x000001A61870E450>), (<carla.libcarla.Waypoint object at 0x000001A61870E4B0>, <carla.libcarla.Waypoint object at 0x000001A61870E510>), (<carla.libcarla.Waypoint object at 0x000001A61870E570>, <carla.libcarla.Waypoint object at 0x000001A61870E5D0>), (<carla.libcarla.Waypoint object at 0x000001A61870E630>, <carla.libcarla.Waypoint object at 0x000001A61870E690>), (<carla.libcarla.Waypoint object at 0x000001A61870E6F0>, <carla.libcarla.Waypoint object at 0x000001A61870E750>), (<carla.libcarla.Waypoint object at 0x000001A61870E7B0>, <carla.libcarla.Waypoint object at 0x000001A61870E810>), (<carla.libcarla.Waypoint object at 0x000001A61870E870>, <carla.libcarla.Waypoint object at 0x000001A61870E8D0>), (<carla.libcarla.Waypoint object at 0x000001A61870E930>, <carla.libcarla.Waypoint object at 0x000001A61870E990>), (<carla.libcarla.Waypoint object at 0x000001A61870E9F0>, <carla.libcarla.Waypoint object at 0x000001A61870EA50>), (<carla.libcarla.Waypoint object at 0x000001A61870EAB0>, <carla.libcarla.Waypoint object at 0x000001A61870EB10>), (<carla.libcarla.Waypoint object at 0x000001A61870EB70>, <carla.libcarla.Waypoint object at 0x000001A61870EBD0>), (<carla.libcarla.Waypoint object at 0x000001A61870EC30>, <carla.libcarla.Waypoint object at 0x000001A61870EC90>), (<carla.libcarla.Waypoint object at 0x000001A61870ECF0>, <carla.libcarla.Waypoint object at 0x000001A61870ED50>), (<carla.libcarla.Waypoint object at 0x000001A61870EDB0>, <carla.libcarla.Waypoint object at 0x000001A61870EE10>), (<carla.libcarla.Waypoint object at 0x000001A61870EE70>, <carla.libcarla.Waypoint object at 0x000001A61870EED0>), (<carla.libcarla.Waypoint object at 0x000001A61870EF30>, <carla.libcarla.Waypoint object at 0x000001A61870EF90>), (<carla.libcarla.Waypoint object at 0x000001A61871B030>, <carla.libcarla.Waypoint object at 0x000001A61871B090>), (<carla.libcarla.Waypoint object at 0x000001A61871B0F0>, <carla.libcarla.Waypoint object at 0x000001A61871B150>), (<carla.libcarla.Waypoint object at 0x000001A61871B1B0>, <carla.libcarla.Waypoint object at 0x000001A61871B210>), (<carla.libcarla.Waypoint object at 0x000001A61871B270>, <carla.libcarla.Waypoint object at 0x000001A61871B2D0>), (<carla.libcarla.Waypoint object at 0x000001A61871B330>, <carla.libcarla.Waypoint object at 0x000001A61871B390>), (<carla.libcarla.Waypoint object at 0x000001A61871B3F0>, <carla.libcarla.Waypoint object at 0x000001A61871B450>), (<carla.libcarla.Waypoint object at 0x000001A61871B4B0>, <carla.libcarla.Waypoint object at 0x000001A61871B510>), (<carla.libcarla.Waypoint object at 0x000001A61871B570>, <carla.libcarla.Waypoint object at 0x000001A61871B5D0>), (<carla.libcarla.Waypoint object at 0x000001A61871B630>, <carla.libcarla.Waypoint object at 0x000001A61871B690>), (<carla.libcarla.Waypoint object at 0x000001A61871B6F0>, <carla.libcarla.Waypoint object at 0x000001A61871B750>), (<carla.libcarla.Waypoint object at 0x000001A61871B7B0>, <carla.libcarla.Waypoint object at 0x000001A61871B810>), (<carla.libcarla.Waypoint object at 0x000001A61871B870>, <carla.libcarla.Waypoint object at 0x000001A61871B8D0>), (<carla.libcarla.Waypoint object at 0x000001A61871B930>, <carla.libcarla.Waypoint object at 0x000001A61871B990>), (<carla.libcarla.Waypoint object at 0x000001A61871B9F0>, <carla.libcarla.Waypoint object at 0x000001A61871BA50>), (<carla.libcarla.Waypoint object at 0x000001A61871BAB0>, <carla.libcarla.Waypoint object at 0x000001A61871BB10>), (<carla.libcarla.Waypoint object at 0x000001A61871BB70>, <carla.libcarla.Waypoint object at 0x000001A61871BBD0>), (<carla.libcarla.Waypoint object at 0x000001A61871BC30>, <carla.libcarla.Waypoint object at 0x000001A61871BC90>), (<carla.libcarla.Waypoint object at 0x000001A61871BCF0>, <carla.libcarla.Waypoint object at 0x000001A61871BD50>), (<carla.libcarla.Waypoint object at 0x000001A61871BDB0>, <carla.libcarla.Waypoint object at 0x000001A61871BE10>), (<carla.libcarla.Waypoint object at 0x000001A61871BE70>, <carla.libcarla.Waypoint object at 0x000001A61871BED0>), (<carla.libcarla.Waypoint object at 0x000001A61871BF30>, <carla.libcarla.Waypoint object at 0x000001A61871BF90>), (<carla.libcarla.Waypoint object at 0x000001A61872F030>, <carla.libcarla.Waypoint object at 0x000001A61872F090>), (<carla.libcarla.Waypoint object at 0x000001A61872F0F0>, <carla.libcarla.Waypoint object at 0x000001A61872F150>), (<carla.libcarla.Waypoint object at 0x000001A61872F1B0>, <carla.libcarla.Waypoint object at 0x000001A61872F210>), (<carla.libcarla.Waypoint object at 0x000001A61872F270>, <carla.libcarla.Waypoint object at 0x000001A61872F2D0>), (<carla.libcarla.Waypoint object at 0x000001A61872F330>, <carla.libcarla.Waypoint object at 0x000001A61872F390>), (<carla.libcarla.Waypoint object at 0x000001A61872F3F0>, <carla.libcarla.Waypoint object at 0x000001A61872F450>), (<carla.libcarla.Waypoint object at 0x000001A61872F4B0>, <carla.libcarla.Waypoint object at 0x000001A61872F510>), (<carla.libcarla.Waypoint object at 0x000001A61872F570>, <carla.libcarla.Waypoint object at 0x000001A61872F5D0>), (<carla.libcarla.Waypoint object at 0x000001A61872F630>, <carla.libcarla.Waypoint object at 0x000001A61872F690>), (<carla.libcarla.Waypoint object at 0x000001A61872F6F0>, <carla.libcarla.Waypoint object at 0x000001A61872F750>), (<carla.libcarla.Waypoint object at 0x000001A61872F7B0>, <carla.libcarla.Waypoint object at 0x000001A61872F810>), (<carla.libcarla.Waypoint object at 0x000001A61872F870>, <carla.libcarla.Waypoint object at 0x000001A61872F8D0>), (<carla.libcarla.Waypoint object at 0x000001A61872F930>, <carla.libcarla.Waypoint object at 0x000001A61872F990>), (<carla.libcarla.Waypoint object at 0x000001A61872F9F0>, <carla.libcarla.Waypoint object at 0x000001A61872FA50>), (<carla.libcarla.Waypoint object at 0x000001A61872FAB0>, <carla.libcarla.Waypoint object at 0x000001A61872FB10>), (<carla.libcarla.Waypoint object at 0x000001A61872FB70>, <carla.libcarla.Waypoint object at 0x000001A61872FBD0>), (<carla.libcarla.Waypoint object at 0x000001A61872FC30>, <carla.libcarla.Waypoint object at 0x000001A61872FC90>), (<carla.libcarla.Waypoint object at 0x000001A61872FCF0>, <carla.libcarla.Waypoint object at 0x000001A61872FD50>), (<carla.libcarla.Waypoint object at 0x000001A61872FDB0>, <carla.libcarla.Waypoint object at 0x000001A61872FE10>), (<carla.libcarla.Waypoint object at 0x000001A61872FE70>, <carla.libcarla.Waypoint object at 0x000001A61872FED0>), (<carla.libcarla.Waypoint object at 0x000001A61872FF30>, <carla.libcarla.Waypoint object at 0x000001A61872FF90>), (<carla.libcarla.Waypoint object at 0x000001A618725030>, <carla.libcarla.Waypoint object at 0x000001A618725090>), (<carla.libcarla.Waypoint object at 0x000001A6187250F0>, <carla.libcarla.Waypoint object at 0x000001A618725150>), (<carla.libcarla.Waypoint object at 0x000001A6187251B0>, <carla.libcarla.Waypoint object at 0x000001A618725210>), (<carla.libcarla.Waypoint object at 0x000001A618725270>, <carla.libcarla.Waypoint object at 0x000001A6187252D0>), (<carla.libcarla.Waypoint object at 0x000001A618725330>, <carla.libcarla.Waypoint object at 0x000001A618725390>)]\n"
     ]
    }
   ],
   "source": [
    "print(roads)"
   ]
  },
  {
   "cell_type": "code",
   "execution_count": 25,
   "id": "0a3325ad-e311-4cb5-9824-b9ed1da97144",
   "metadata": {},
   "outputs": [
    {
     "name": "stdout",
     "output_type": "stream",
     "text": [
      "Waypoint(Transform(Location(x=-3.370002, y=294.696808, z=0.000000), Rotation(pitch=0.000000, yaw=-90.090981, roll=0.000000)))\n"
     ]
    }
   ],
   "source": [
    "print(roads[0][0])"
   ]
  },
  {
   "cell_type": "code",
   "execution_count": 27,
   "id": "ec227f6a-ce83-45b9-9047-7868b7581619",
   "metadata": {},
   "outputs": [
    {
     "data": {
      "text/plain": [
       "112"
      ]
     },
     "execution_count": 27,
     "metadata": {},
     "output_type": "execute_result"
    }
   ],
   "source": [
    "len(roads)"
   ]
  },
  {
   "cell_type": "code",
   "execution_count": 29,
   "id": "1e9e2e92-af56-4448-9e85-30caa36c22e8",
   "metadata": {},
   "outputs": [],
   "source": [
    "#making a route\n",
    "import sys\n",
    "sys.path.append('C:\\CARLA_0.9.15\\PythonAPI\\carla')\n",
    "from agents.navigation.global_route_planner import GlobalRoutePlanner"
   ]
  },
  {
   "cell_type": "code",
   "execution_count": 31,
   "id": "011bf233-095d-497f-8d29-c4c8fb9eb116",
   "metadata": {},
   "outputs": [],
   "source": [
    "sampling_resolution = 2\n",
    "\n",
    "grp = GlobalRoutePlanner(town_map, sampling_resolution)\n",
    "\n",
    "point_a = carla.Location(x=64.644844, y=24.471010, z=0.600000)\n",
    "point_b = carla.Location(x=114.478943, y=65.782814, z=0.003669)\n",
    "\n",
    "\n",
    "route = grp.trace_route(point_a, point_b)\n",
    "\n",
    "for waypoint in route:\n",
    "    world.debug.draw_string(waypoint[0].transform.location, '^', draw_shadow=False, \n",
    "                            color = carla.Color(r=0, g=0, b=255), life_time=120.0, \n",
    "                            persistent_lines=True)"
   ]
  },
  {
   "cell_type": "code",
   "execution_count": 33,
   "id": "d3c8d5ad-2291-4064-b080-419a1d778b1f",
   "metadata": {},
   "outputs": [],
   "source": [
    "#distruction\n",
    "\n",
    "for actor in world.get_actors().filter('*vehicle*'):\n",
    "    actor.destroy()\n",
    "for sesnor in world.get_actors().filter('*sesnor*'):\n",
    "    sesnor.destroy()\n",
    "\n"
   ]
  },
  {
   "cell_type": "code",
   "execution_count": 35,
   "id": "da43589e-066f-4ac3-99b9-fd91591053fd",
   "metadata": {},
   "outputs": [],
   "source": [
    "#define 2 cars\n",
    "\n",
    "truck_bp =  world.get_blueprint_library().filter('*firetruck*')\n",
    "mini_bp = world.get_blueprint_library().filter('*cooper_s*')\n",
    "\n",
    "#start first car in already defined start point\n",
    "truck = world.try_spawn_actor(truck_bp[0], start_point)"
   ]
  },
  {
   "cell_type": "code",
   "execution_count": 37,
   "id": "a97e9cc9-db9f-4273-8652-cb1d6c74a556",
   "metadata": {},
   "outputs": [],
   "source": [
    "#tweak spectator position to watch the show\n",
    "\n",
    "spectator = world .get_spectator()\n",
    "spawn_points = world.get_map().get_spawn_points()\n",
    "start_point = spawn_points[0]\n",
    "\n",
    "spectator_pos = carla.Transform(start_point.location +  carla.Location(x=20, y=10, z= 4), \n",
    "                                carla.Rotation(yaw = start_point.rotation.yaw -155))\n",
    "\n",
    "spectator.set_transform(spectator_pos)"
   ]
  },
  {
   "cell_type": "code",
   "execution_count": 97,
   "id": "b691daa5-a0d9-4edc-a1cc-7ad6fe2fb186",
   "metadata": {},
   "outputs": [],
   "source": [
    "#drop the mini sky - watch what happens after\n",
    "\n",
    "#spwan it first somewhere else\n",
    "mini = world.try_spawn_actor(mini_bp[0], spawn_points[10])\n",
    "\n",
    "mini_pos = carla.Transform(start_point.location + carla.Location(x=-4, z=10),\n",
    "                           carla.Rotation(yaw = start_point.rotation.yaw - 0))\n",
    "mini.set_transform(mini_pos)\n"
   ]
  },
  {
   "cell_type": "code",
   "execution_count": 89,
   "id": "9ea2a4d2-6c98-4e48-b3e0-0ab3af9b6324",
   "metadata": {},
   "outputs": [],
   "source": [
    "truck.set_autopilot(True)"
   ]
  },
  {
   "cell_type": "code",
   "execution_count": null,
   "id": "8f589357-d651-4937-b0c0-9068649a2ca3",
   "metadata": {},
   "outputs": [],
   "source": []
  }
 ],
 "metadata": {
  "kernelspec": {
   "display_name": "Python [conda env:carla-sim]",
   "language": "python",
   "name": "conda-env-carla-sim-py"
  },
  "language_info": {
   "codemirror_mode": {
    "name": "ipython",
    "version": 3
   },
   "file_extension": ".py",
   "mimetype": "text/x-python",
   "name": "python",
   "nbconvert_exporter": "python",
   "pygments_lexer": "ipython3",
   "version": "3.7.12"
  }
 },
 "nbformat": 4,
 "nbformat_minor": 5
}
